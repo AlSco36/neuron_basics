{
 "cells": [
  {
   "cell_type": "markdown",
   "metadata": {},
   "source": [
    "## ECE495 Intro to programming neurons with Nengo: Dynamics\n",
    "\n",
    "In this demonstration we will:\n",
    "\n",
    "1. Understand and implement recurrence in a Nengo network\n",
    "2. Create an integrator with neurons\n",
    "3. Create an oscillator with neurons"
   ]
  },
  {
   "cell_type": "markdown",
   "metadata": {},
   "source": [
    "#### Set up\n",
    "\n",
    "**Ensure you are using your [495 Virtual Environment](https://github.com/kaitlin-fair/495venv_setup) before you begin!**  \n",
    "    \n",
    "Import Nengo and other supporting libraries into your program to get started:"
   ]
  },
  {
   "cell_type": "code",
   "execution_count": 34,
   "metadata": {},
   "outputs": [],
   "source": [
    "import matplotlib.pyplot as plt\n",
    "import numpy as np\n",
    "\n",
    "import nengo\n",
    "from nengo.processes import Piecewise\n",
    "from nengo.processes import WhiteSignal"
   ]
  },
  {
   "cell_type": "markdown",
   "metadata": {},
   "source": [
    "### Recurrence in Nengo\n",
    "\n",
    "Recurrence in neural networks can be used to implement stable dynamics. Such dynamics are important for memory, noise cleanup, statistical inference, and many other dynamic transformations. Recurrent neurons can also be used if you will be performing the same computation over and over again within an algorithm (i.e. just build the neuron once and send in different inputs). Another use of recurrent neurons is online learning (edge computing), depending on the algorithm.\n"
   ]
  },
  {
   "cell_type": "code",
   "execution_count": null,
   "metadata": {},
   "outputs": [],
   "source": [
    "model = nengo.Network(label=\"Recurrence\")\n",
    "\n",
    "synaptic_tau = .005 # actual neuron tau, much smaller, responds quickly but noisily\n",
    "desired_tau = .05 # much larger, therefore more stable for network as a whole\n",
    "\n",
    "with model:\n",
    "    a = nengo.Ensemble(100, dimensions=1)\n",
    "\n",
    "    stim = nengo.Node(Piecewise({0: 0, 1: 1}))\n",
    "    nengo.Connection(stim, a)\n",
    "\n",
    "    b = nengo.Ensemble(100, dimensions=1)\n",
    "\n",
    "    def forward(u):\n",
    "        return (synaptic_tau/desired_tau)*u\n",
    "    \n",
    "    nengo.Connection(a, b, function = forward, synapse=synaptic_tau)\n",
    "\n",
    "    \n"
   ]
  },
  {
   "cell_type": "markdown",
   "metadata": {},
   "source": [
    "### Integrator\n",
    "\n",
    "This is a simple example of a recurrent network (there are several other tutorials [here](https://www.nengo.ai/nengo/examples.html#building-dynamical-systems)). \n",
    "\n",
    "The input is a piecewise function so you can see that the output is integrating (i.e. summing over time) the input. Note that since the integrator constantly sums its input, it will saturate quickly if you leave the input non-zero. This makes it clear that neurons have a finite range of representation. Such saturation effects however can be exploited to perform useful computations (e.g. soft normalization).\n",
    "\n",
    "This model specifically demonstrates recurrence using one recurrently connected ensemble and an input population. This is also referred to as an _integrator_ becaues it's integrating (summing) inputs over time."
   ]
  },
  {
   "cell_type": "code",
   "execution_count": 31,
   "metadata": {},
   "outputs": [],
   "source": [
    "model = nengo.Network(label=\"Integrator\")\n",
    "with model:\n",
    "    # create the recurrent neuron ensemble\n",
    "    A = nengo.Ensemble(100, dimensions=1)\n",
    "\n",
    "    # create piecewise input\n",
    "    input = nengo.Node(Piecewise({0: 0, 0.2: 1, 1: 0, 2: -2, 3: 0, 4: 1, 5: 0}))\n",
    "\n",
    "    # Connect the population to itself\n",
    "    # Using a long time constant for stability (less noise)\n",
    "    tau = 0.1 \n",
    "    nengo.Connection(A, A, transform=[[1]], synapse=tau)  \n",
    "    \n",
    "    # Connect the input\n",
    "    # The same time constant as recurrent to make it more 'ideal'\n",
    "    nengo.Connection(input, A, transform=[[tau]], synapse=tau)  "
   ]
  },
  {
   "cell_type": "markdown",
   "metadata": {},
   "source": [
    "#### Probe it and Run it"
   ]
  },
  {
   "cell_type": "code",
   "execution_count": 32,
   "metadata": {},
   "outputs": [
    {
     "name": "stdout",
     "output_type": "stream",
     "text": [
      "Build finished in 0:00:01.                                                      \n",
      "Simulation finished in 0:00:02.                                                 \n"
     ]
    }
   ],
   "source": [
    "with model:\n",
    "    # Add probes\n",
    "    input_probe = nengo.Probe(input)\n",
    "    A_probe = nengo.Probe(A, synapse=0.01)\n",
    "\n",
    "# Create our simulator\n",
    "with nengo.Simulator(model) as sim:\n",
    "    # Run it for 6 seconds\n",
    "    sim.run(6)"
   ]
  },
  {
   "cell_type": "markdown",
   "metadata": {},
   "source": [
    "#### Plot it"
   ]
  },
  {
   "cell_type": "code",
   "execution_count": 33,
   "metadata": {},
   "outputs": [
    {
     "data": {
      "text/plain": [
       "<matplotlib.legend.Legend at 0x1d0482dba90>"
      ]
     },
     "execution_count": 33,
     "metadata": {},
     "output_type": "execute_result"
    },
    {
     "data": {
      "image/png": "[encoded data removed]",
      "text/plain": [
       "<Figure size 640x480 with 1 Axes>"
      ]
     },
     "metadata": {},
     "output_type": "display_data"
    }
   ],
   "source": [
    "# Plot the decoded output of the ensemble\n",
    "plt.figure()\n",
    "plt.plot(sim.trange(), sim.data[input_probe], label=\"Input\")\n",
    "plt.plot(sim.trange(), sim.data[A_probe], \"k\", label=\"Integrator output\")\n",
    "plt.legend()"
   ]
  },
  {
   "cell_type": "markdown",
   "metadata": {},
   "source": [
    "#### Discussion\n",
    "\n",
    "The graph shows the response to the input by the integrator. Because it is implemented in neurons, it will not be perfect (i.e. there will be drift). Running several times will give a sense of the kinds of drift you might expect. Drift can be reduced by increasing the number of neurons."
   ]
  }
 ],
 "metadata": {
  "kernelspec": {
   "display_name": "py3.10-nengo3.2",
   "language": "python",
   "name": "python3"
  },
  "language_info": {
   "codemirror_mode": {
    "name": "ipython",
    "version": 3
   },
   "file_extension": ".py",
   "mimetype": "text/x-python",
   "name": "python",
   "nbconvert_exporter": "python",
   "pygments_lexer": "ipython3",
   "version": "3.10.13"
  }
 },
 "nbformat": 4,
 "nbformat_minor": 2
}
